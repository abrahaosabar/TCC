{
 "cells": [
  {
   "cell_type": "code",
   "execution_count": null,
   "id": "d8f0f3fd-7e9b-4b24-af67-ea3d41de9015",
   "metadata": {},
   "outputs": [],
   "source": []
  },
  {
   "cell_type": "markdown",
   "id": "ba056810",
   "metadata": {},
   "source": [
    "# First Experiment"
   ]
  },
  {
   "cell_type": "code",
   "execution_count": 1,
   "id": "50a903db-3bda-4978-a910-3e956ffca594",
   "metadata": {},
   "outputs": [],
   "source": [
    "import torch\n",
    "import torch.nn as nn\n",
    "import torch.nn.functional as F\n",
    "from torch.utils.data import DataLoader\n",
    "import matplotlib.pyplot as plt\n",
    "import torchvision\n",
    "import torchvision.transforms as transforms\n",
    "from pathlib import Path"
   ]
  },
  {
   "cell_type": "code",
   "execution_count": 2,
   "id": "affed56d",
   "metadata": {},
   "outputs": [
    {
     "name": "stdout",
     "output_type": "stream",
     "text": [
      "cuda\n"
     ]
    }
   ],
   "source": [
    "device = torch.device(\"cuda\" if torch.cuda.is_available() else \"cpu\")\n",
    "print(device)"
   ]
  },
  {
   "cell_type": "markdown",
   "id": "e127b84a",
   "metadata": {},
   "source": [
    "## MNIST Dataset"
   ]
  },
  {
   "cell_type": "code",
   "execution_count": 3,
   "id": "605fec68",
   "metadata": {},
   "outputs": [],
   "source": [
    "DATA_PATH = \"./data\"\n",
    "train_dataset = torchvision.datasets.MNIST(\n",
    "    root=DATA_PATH,\n",
    "    train=True,\n",
    "    transform=transforms.ToTensor(),\n",
    "    download=True,\n",
    ")\n",
    "test_dataset = torchvision.datasets.MNIST(\n",
    "    root=DATA_PATH,\n",
    "    train=False,\n",
    "    transform=transforms.ToTensor(),\n",
    "    download=True,\n",
    ")"
   ]
  },
  {
   "cell_type": "markdown",
   "id": "fd740286",
   "metadata": {},
   "source": [
    "## Hyperparameters"
   ]
  },
  {
   "cell_type": "code",
   "execution_count": 4,
   "id": "aae3e381",
   "metadata": {},
   "outputs": [],
   "source": [
    "BATCH_SIZE = 32\n",
    "EPOCHS = 20\n",
    "LEARNING_RATE = 0.01\n"
   ]
  },
  {
   "cell_type": "markdown",
   "id": "d66e8687",
   "metadata": {},
   "source": [
    "## MNIST Dataloaders"
   ]
  },
  {
   "cell_type": "code",
   "execution_count": 5,
   "id": "2dde7edf",
   "metadata": {},
   "outputs": [
    {
     "name": "stdout",
     "output_type": "stream",
     "text": [
      "1875\n"
     ]
    }
   ],
   "source": [
    "train_dataloader = DataLoader(\n",
    "    dataset=train_dataset,\n",
    "    batch_size=BATCH_SIZE,\n",
    "    shuffle=True,\n",
    ")\n",
    "test_dataloader = DataLoader(\n",
    "    dataset=test_dataset,\n",
    "    batch_size=BATCH_SIZE,\n",
    "    shuffle=False,\n",
    ")\n",
    "total_steps = len(train_dataloader)\n",
    "print(total_steps)"
   ]
  },
  {
   "cell_type": "code",
   "execution_count": null,
   "id": "c2a28533",
   "metadata": {},
   "outputs": [],
   "source": []
  },
  {
   "cell_type": "code",
   "execution_count": 6,
   "id": "c422bc40",
   "metadata": {},
   "outputs": [],
   "source": [
    "class MNISTModel(nn.Module):\n",
    "    def __init__(self,input_size:int=28*28):\n",
    "        super().__init__()\n",
    "        self.flatten = nn.Flatten()\n",
    "        self.relu = nn.ReLU()\n",
    "        self.fc1 = nn.Linear(input_size,input_size//2)\n",
    "        self.fc2 = nn.Linear(input_size//2,10)\n",
    "\n",
    "    def forward(self,x):\n",
    "        x = self.flatten(x)\n",
    "        x = self.relu(self.fc1(x))\n",
    "        x = self.fc2(x)\n",
    "        return x"
   ]
  },
  {
   "cell_type": "code",
   "execution_count": 7,
   "id": "4e36e170",
   "metadata": {},
   "outputs": [],
   "source": [
    "def one_epoch(model:nn.Module,optimizer,criterion):\n",
    "    running_loss = 0.0\n",
    "    for images,labels in train_dataloader:\n",
    "        images = images.to(device)\n",
    "        labels = labels.to(device)\n",
    "\n",
    "        outputs = model(images)\n",
    "        loss = criterion(outputs,labels)\n",
    "        \n",
    "        optimizer.zero_grad()\n",
    "        loss.backward()\n",
    "        optimizer.step()\n",
    "\n",
    "        running_loss += loss.item()\n",
    "    print(f\"Running Loss: {running_loss/total_steps:.3f}\")\n",
    "    return model\n",
    "\n",
    "def train_model(model,optimizer,criterion,epochs,save_file,continue_training=False):\n",
    "    save_file = Path(save_file)\n",
    "    is_model_available = save_file.is_file()\n",
    "    if is_model_available:\n",
    "        model.load_state_dict(torch.load(save_file))\n",
    "    if is_model_available and not continue_training:\n",
    "        return model\n",
    "    for epoch in range(epochs):\n",
    "        model = one_epoch(model,optimizer,criterion)\n",
    "        print(f\"Epoch {epoch} finished.\")\n",
    "    torch.save(model.state_dict(),save_file)\n",
    "    return model"
   ]
  },
  {
   "cell_type": "markdown",
   "id": "248043a8",
   "metadata": {},
   "source": []
  },
  {
   "cell_type": "code",
   "execution_count": 8,
   "id": "1f9d766b",
   "metadata": {},
   "outputs": [],
   "source": [
    "model = MNISTModel().to(device)\n",
    "criterion = nn.CrossEntropyLoss()\n",
    "optimizer = torch.optim.Adam(\n",
    "    model.parameters(),\n",
    "    lr=LEARNING_RATE,\n",
    ")\n",
    "model = train_model(model=model,optimizer=optimizer,criterion=criterion,epochs=20,save_file=\"./mnist_model.zip\")"
   ]
  },
  {
   "cell_type": "code",
   "execution_count": 9,
   "id": "953b6bd7",
   "metadata": {},
   "outputs": [],
   "source": [
    "def accuracy():\n",
    "    correct = 0\n",
    "    total = len(test_dataloader.dataset)\n",
    "    with torch.no_grad():\n",
    "        for images, labels in test_dataloader:\n",
    "            images = images.to(device)\n",
    "            labels = labels.to(device)\n",
    "\n",
    "            outputs = model(images)\n",
    "            _,predicted = torch.max(outputs,1)\n",
    "            correct += (predicted==labels).sum().item()\n",
    "    return correct/total\n"
   ]
  },
  {
   "cell_type": "code",
   "execution_count": 10,
   "id": "620cfea5",
   "metadata": {},
   "outputs": [
    {
     "data": {
      "text/plain": [
       "0.972"
      ]
     },
     "execution_count": 10,
     "metadata": {},
     "output_type": "execute_result"
    }
   ],
   "source": [
    "accuracy()"
   ]
  },
  {
   "cell_type": "markdown",
   "id": "c75fa44e",
   "metadata": {},
   "source": [
    "## Autoencoder"
   ]
  },
  {
   "cell_type": "code",
   "execution_count": 11,
   "id": "c57e9444",
   "metadata": {},
   "outputs": [],
   "source": [
    "class AutoEncoder(nn.Module):\n",
    "    def __init__(self,input:int=28*28):\n",
    "        super().__init__()\n",
    "        # self.flatten = nn.Flatten\n",
    "        self.sigmoid = nn.Sigmoid()\n",
    "        self.encoder = nn.Sequential(\n",
    "            nn.Linear(input,128),\n",
    "            nn.ReLU(),\n",
    "            nn.Linear(128,64),\n",
    "            nn.ReLU(),\n",
    "            nn.Linear(64,36),\n",
    "            nn.ReLU(),\n",
    "            nn.Linear(36,18),\n",
    "            nn.ReLU(),\n",
    "            nn.Linear(18,9)\n",
    "        )\n",
    "        self.decoder = nn.Sequential(\n",
    "            nn.Linear(9, 18),\n",
    "            nn.ReLU(),\n",
    "            nn.Linear(18, 36),\n",
    "            nn.ReLU(),\n",
    "            nn.Linear(36, 64),\n",
    "            nn.ReLU(),\n",
    "            nn.Linear(64, 128),\n",
    "            nn.ReLU(),\n",
    "            nn.Linear(128,input),\n",
    "        )\n",
    "    def forward(self,x):\n",
    "        # x = self.flatten(x)\n",
    "        x = self.encoder(x)\n",
    "        x = self.decoder(x)\n",
    "        x = self.sigmoid(x)\n",
    "        return x"
   ]
  },
  {
   "cell_type": "code",
   "execution_count": 12,
   "id": "0c9f167f",
   "metadata": {},
   "outputs": [],
   "source": [
    "model = AutoEncoder().to(device)\n",
    "loss = torch.nn.MSELoss()\n",
    "optimizer = torch.optim.Adam(model.parameters(),lr=1e-1,weight_decay = 1e-8)"
   ]
  },
  {
   "cell_type": "code",
   "execution_count": 13,
   "id": "21b73089",
   "metadata": {},
   "outputs": [],
   "source": [
    "def autoencoder_epoch(model,loss,optimizer):\n",
    "    running_loss = 0.0\n",
    "    for images,_ in train_dataloader:\n",
    "        images = images.reshape(-1,28*28)\n",
    "        \n",
    "        images = images.to(device)\n",
    "\n",
    "        outputs = model(images)\n",
    "        loss = criterion(outputs,images)\n",
    "\n",
    "        optimizer.zero_grad()\n",
    "        loss.backward()\n",
    "        optimizer.step()\n",
    "\n",
    "        running_loss+=loss.item()\n",
    "    print(f\"Running Loss: {running_loss/total_steps:.3f}\")\n",
    "    return model\n",
    "\n",
    "\n",
    "def train_autoencoder(model,loss,optimizer, save_file, epochs=EPOCHS,continue_training=False):\n",
    "    save_file = Path(save_file)\n",
    "    if save_file.is_file():\n",
    "        model.load_state_dict(torch.load(save_file))\n",
    "    if save_file.is_file() and not continue_training:\n",
    "        return model\n",
    "    for epoch in range(epochs):\n",
    "        model = autoencoder_epoch(model=model,loss=loss,optimizer=optimizer)\n",
    "        print(f\"Finished epoch {epoch+1}.\")\n",
    "    torch.save(model.state_dict(),save_file)\n",
    "    return model\n"
   ]
  },
  {
   "cell_type": "code",
   "execution_count": 14,
   "id": "201ebe35",
   "metadata": {},
   "outputs": [
    {
     "name": "stdout",
     "output_type": "stream",
     "text": [
      "Running Loss: 639.078\n",
      "Finished epoch 1.\n",
      "Running Loss: 639.039\n",
      "Finished epoch 2.\n",
      "Running Loss: 639.111\n",
      "Finished epoch 3.\n",
      "Running Loss: 639.306\n",
      "Finished epoch 4.\n",
      "Running Loss: 639.965\n",
      "Finished epoch 5.\n",
      "Running Loss: 639.960\n",
      "Finished epoch 6.\n",
      "Running Loss: 639.960\n",
      "Finished epoch 7.\n",
      "Running Loss: 640.640\n",
      "Finished epoch 8.\n",
      "Running Loss: 641.096\n",
      "Finished epoch 9.\n",
      "Running Loss: 641.218\n",
      "Finished epoch 10.\n",
      "Running Loss: 641.062\n",
      "Finished epoch 11.\n",
      "Running Loss: 640.635\n",
      "Finished epoch 12.\n",
      "Running Loss: 640.586\n",
      "Finished epoch 13.\n",
      "Running Loss: 640.471\n",
      "Finished epoch 14.\n",
      "Running Loss: 640.675\n",
      "Finished epoch 15.\n",
      "Running Loss: 640.805\n",
      "Finished epoch 16.\n",
      "Running Loss: 640.831\n",
      "Finished epoch 17.\n",
      "Running Loss: 641.023\n",
      "Finished epoch 18.\n",
      "Running Loss: 641.157\n",
      "Finished epoch 19.\n",
      "Running Loss: 640.093\n",
      "Finished epoch 20.\n",
      "Running Loss: 640.397\n",
      "Finished epoch 21.\n",
      "Running Loss: 641.461\n",
      "Finished epoch 22.\n"
     ]
    }
   ],
   "source": [
    "model = train_autoencoder(model=model,loss=loss,optimizer=optimizer,epochs=50,save_file=\"./autoencoder.zip\")"
   ]
  },
  {
   "cell_type": "code",
   "execution_count": null,
   "id": "af0bca23",
   "metadata": {},
   "outputs": [
    {
     "name": "stdout",
     "output_type": "stream",
     "text": [
      "tensor(1)\n"
     ]
    },
    {
     "data": {
      "image/png": "[encoded data removed]",
      "text/plain": [
       "<Figure size 640x480 with 1 Axes>"
      ]
     },
     "metadata": {},
     "output_type": "display_data"
    }
   ],
   "source": [
    "with torch.no_grad():\n",
    "    for images,label in test_dataloader:\n",
    "        print(label[-1])\n",
    "        images = images.to(device)\n",
    "        images = images.reshape(-1,28*28)\n",
    "        images = model(images)\n",
    "        images = images.reshape(-1,28,28)\n",
    "        images = images.to(\"cpu\")\n",
    "        plt.imshow(images[-1])\n",
    "        break"
   ]
  }
 ],
 "metadata": {
  "kernelspec": {
   "display_name": "Python 3 (ipykernel)",
   "language": "python",
   "name": "python3"
  },
  "language_info": {
   "codemirror_mode": {
    "name": "ipython",
    "version": 3
   },
   "file_extension": ".py",
   "mimetype": "text/x-python",
   "name": "python",
   "nbconvert_exporter": "python",
   "pygments_lexer": "ipython3",
   "version": "3.10.12"
  }
 },
 "nbformat": 4,
 "nbformat_minor": 5
}
